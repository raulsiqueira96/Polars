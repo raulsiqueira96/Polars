{
 "cells": [
  {
   "cell_type": "code",
   "execution_count": 1,
   "id": "f42132f6-985a-4808-b2ab-d98be64e04bb",
   "metadata": {
    "jupyter": {
     "source_hidden": true
    },
    "tags": []
   },
   "outputs": [],
   "source": [
    "import polars as pl\n",
    "import pandas as pd\n",
    "import numpy as np"
   ]
  },
  {
   "cell_type": "code",
   "execution_count": 2,
   "id": "eeb77cee-0b41-493f-bc82-4cd6602494b1",
   "metadata": {
    "tags": []
   },
   "outputs": [
    {
     "data": {
      "text/html": [
       "<div><style>\n",
       ".dataframe > thead > tr > th,\n",
       ".dataframe > tbody > tr > td {\n",
       "  text-align: right;\n",
       "  white-space: pre-wrap;\n",
       "}\n",
       "</style>\n",
       "<small>shape: (50, 5)</small><table border=\"1\" class=\"dataframe\"><thead><tr><th>Numero do produto</th><th>Nome do produto</th><th>Categoria do produto</th><th>Marca do produto</th><th>Preco do produto</th></tr><tr><td>i64</td><td>str</td><td>str</td><td>str</td><td>f64</td></tr></thead><tbody><tr><td>1</td><td>&quot;Produto 1&quot;</td><td>&quot;Brinquedo Educ…</td><td>&quot;Marca E&quot;</td><td>38.58</td></tr><tr><td>2</td><td>&quot;Produto 2&quot;</td><td>&quot;Carrinho&quot;</td><td>&quot;Marca B&quot;</td><td>34.21</td></tr><tr><td>3</td><td>&quot;Produto 3&quot;</td><td>&quot;Carrinho&quot;</td><td>&quot;Marca C&quot;</td><td>33.15</td></tr><tr><td>4</td><td>&quot;Produto 4&quot;</td><td>&quot;Carrinho&quot;</td><td>&quot;Marca A&quot;</td><td>31.94</td></tr><tr><td>5</td><td>&quot;Produto 5&quot;</td><td>&quot;Brinquedo Educ…</td><td>&quot;Marca C&quot;</td><td>79.41</td></tr><tr><td>6</td><td>&quot;Produto 6&quot;</td><td>&quot;Brinquedo de P…</td><td>&quot;Marca A&quot;</td><td>52.55</td></tr><tr><td>7</td><td>&quot;Produto 7&quot;</td><td>&quot;Jogo de Tabule…</td><td>&quot;Marca C&quot;</td><td>42.98</td></tr><tr><td>8</td><td>&quot;Produto 8&quot;</td><td>&quot;Carrinho&quot;</td><td>&quot;Marca E&quot;</td><td>32.85</td></tr><tr><td>9</td><td>&quot;Produto 9&quot;</td><td>&quot;Carrinho&quot;</td><td>&quot;Marca C&quot;</td><td>72.44</td></tr><tr><td>10</td><td>&quot;Produto 10&quot;</td><td>&quot;Jogo de Tabule…</td><td>&quot;Marca B&quot;</td><td>67.17</td></tr><tr><td>11</td><td>&quot;Produto 11&quot;</td><td>&quot;Quebra-Cabeça&quot;</td><td>&quot;Marca E&quot;</td><td>16.22</td></tr><tr><td>12</td><td>&quot;Produto 12&quot;</td><td>&quot;Brinquedo Educ…</td><td>&quot;Marca B&quot;</td><td>34.15</td></tr><tr><td>&hellip;</td><td>&hellip;</td><td>&hellip;</td><td>&hellip;</td><td>&hellip;</td></tr><tr><td>39</td><td>&quot;Produto 39&quot;</td><td>&quot;Quebra-Cabeça&quot;</td><td>&quot;Marca E&quot;</td><td>54.91</td></tr><tr><td>40</td><td>&quot;Produto 40&quot;</td><td>&quot;Brinquedo Educ…</td><td>&quot;Marca B&quot;</td><td>56.87</td></tr><tr><td>41</td><td>&quot;Produto 41&quot;</td><td>&quot;Quebra-Cabeça&quot;</td><td>&quot;Marca C&quot;</td><td>31.79</td></tr><tr><td>42</td><td>&quot;Produto 42&quot;</td><td>&quot;Brinquedo Educ…</td><td>&quot;Marca D&quot;</td><td>33.84</td></tr><tr><td>43</td><td>&quot;Produto 43&quot;</td><td>&quot;Brinquedo de P…</td><td>&quot;Marca B&quot;</td><td>53.47</td></tr><tr><td>44</td><td>&quot;Produto 44&quot;</td><td>&quot;Brinquedo de P…</td><td>&quot;Marca B&quot;</td><td>47.6</td></tr><tr><td>45</td><td>&quot;Produto 45&quot;</td><td>&quot;Brinquedo de P…</td><td>&quot;Marca B&quot;</td><td>95.61</td></tr><tr><td>46</td><td>&quot;Produto 46&quot;</td><td>&quot;Brinquedo de P…</td><td>&quot;Marca D&quot;</td><td>26.01</td></tr><tr><td>47</td><td>&quot;Produto 47&quot;</td><td>&quot;Brinquedo Educ…</td><td>&quot;Marca A&quot;</td><td>59.58</td></tr><tr><td>48</td><td>&quot;Produto 48&quot;</td><td>&quot;Jogo de Tabule…</td><td>&quot;Marca D&quot;</td><td>82.88</td></tr><tr><td>49</td><td>&quot;Produto 49&quot;</td><td>&quot;Brinquedo Educ…</td><td>&quot;Marca C&quot;</td><td>45.57</td></tr><tr><td>50</td><td>&quot;Produto 50&quot;</td><td>&quot;Brinquedo Educ…</td><td>&quot;Marca B&quot;</td><td>76.28</td></tr></tbody></table></div>"
      ],
      "text/plain": [
       "shape: (50, 5)\n",
       "┌───────────────────┬─────────────────┬──────────────────────┬──────────────────┬──────────────────┐\n",
       "│ Numero do produto ┆ Nome do produto ┆ Categoria do produto ┆ Marca do produto ┆ Preco do produto │\n",
       "│ ---               ┆ ---             ┆ ---                  ┆ ---              ┆ ---              │\n",
       "│ i64               ┆ str             ┆ str                  ┆ str              ┆ f64              │\n",
       "╞═══════════════════╪═════════════════╪══════════════════════╪══════════════════╪══════════════════╡\n",
       "│ 1                 ┆ Produto 1       ┆ Brinquedo Educativo  ┆ Marca E          ┆ 38.58            │\n",
       "│ 2                 ┆ Produto 2       ┆ Carrinho             ┆ Marca B          ┆ 34.21            │\n",
       "│ 3                 ┆ Produto 3       ┆ Carrinho             ┆ Marca C          ┆ 33.15            │\n",
       "│ 4                 ┆ Produto 4       ┆ Carrinho             ┆ Marca A          ┆ 31.94            │\n",
       "│ …                 ┆ …               ┆ …                    ┆ …                ┆ …                │\n",
       "│ 47                ┆ Produto 47      ┆ Brinquedo Educativo  ┆ Marca A          ┆ 59.58            │\n",
       "│ 48                ┆ Produto 48      ┆ Jogo de Tabuleiro    ┆ Marca D          ┆ 82.88            │\n",
       "│ 49                ┆ Produto 49      ┆ Brinquedo Educativo  ┆ Marca C          ┆ 45.57            │\n",
       "│ 50                ┆ Produto 50      ┆ Brinquedo Educativo  ┆ Marca B          ┆ 76.28            │\n",
       "└───────────────────┴─────────────────┴──────────────────────┴──────────────────┴──────────────────┘"
      ]
     },
     "execution_count": 2,
     "metadata": {},
     "output_type": "execute_result"
    }
   ],
   "source": [
    "df = pl.read_csv('df_Produtos.csv')\n",
    "df"
   ]
  },
  {
   "cell_type": "code",
   "execution_count": 3,
   "id": "cfdbc700-30f3-4623-a526-62d404f77283",
   "metadata": {
    "tags": []
   },
   "outputs": [
    {
     "data": {
      "text/html": [
       "<div><style>\n",
       ".dataframe > thead > tr > th,\n",
       ".dataframe > tbody > tr > td {\n",
       "  text-align: right;\n",
       "  white-space: pre-wrap;\n",
       "}\n",
       "</style>\n",
       "<small>shape: (50, 2)</small><table border=\"1\" class=\"dataframe\"><thead><tr><th>Nome do produto</th><th>counts</th></tr><tr><td>str</td><td>u32</td></tr></thead><tbody><tr><td>&quot;Produto 1&quot;</td><td>1</td></tr><tr><td>&quot;Produto 24&quot;</td><td>1</td></tr><tr><td>&quot;Produto 43&quot;</td><td>1</td></tr><tr><td>&quot;Produto 26&quot;</td><td>1</td></tr><tr><td>&quot;Produto 23&quot;</td><td>1</td></tr><tr><td>&quot;Produto 2&quot;</td><td>1</td></tr><tr><td>&quot;Produto 50&quot;</td><td>1</td></tr><tr><td>&quot;Produto 14&quot;</td><td>1</td></tr><tr><td>&quot;Produto 16&quot;</td><td>1</td></tr><tr><td>&quot;Produto 25&quot;</td><td>1</td></tr><tr><td>&quot;Produto 42&quot;</td><td>1</td></tr><tr><td>&quot;Produto 39&quot;</td><td>1</td></tr><tr><td>&hellip;</td><td>&hellip;</td></tr><tr><td>&quot;Produto 20&quot;</td><td>1</td></tr><tr><td>&quot;Produto 36&quot;</td><td>1</td></tr><tr><td>&quot;Produto 4&quot;</td><td>1</td></tr><tr><td>&quot;Produto 10&quot;</td><td>1</td></tr><tr><td>&quot;Produto 45&quot;</td><td>1</td></tr><tr><td>&quot;Produto 9&quot;</td><td>1</td></tr><tr><td>&quot;Produto 22&quot;</td><td>1</td></tr><tr><td>&quot;Produto 31&quot;</td><td>1</td></tr><tr><td>&quot;Produto 8&quot;</td><td>1</td></tr><tr><td>&quot;Produto 33&quot;</td><td>1</td></tr><tr><td>&quot;Produto 28&quot;</td><td>1</td></tr><tr><td>&quot;Produto 3&quot;</td><td>1</td></tr></tbody></table></div>"
      ],
      "text/plain": [
       "shape: (50, 2)\n",
       "┌─────────────────┬────────┐\n",
       "│ Nome do produto ┆ counts │\n",
       "│ ---             ┆ ---    │\n",
       "│ str             ┆ u32    │\n",
       "╞═════════════════╪════════╡\n",
       "│ Produto 1       ┆ 1      │\n",
       "│ Produto 24      ┆ 1      │\n",
       "│ Produto 43      ┆ 1      │\n",
       "│ Produto 26      ┆ 1      │\n",
       "│ …               ┆ …      │\n",
       "│ Produto 8       ┆ 1      │\n",
       "│ Produto 33      ┆ 1      │\n",
       "│ Produto 28      ┆ 1      │\n",
       "│ Produto 3       ┆ 1      │\n",
       "└─────────────────┴────────┘"
      ]
     },
     "execution_count": 3,
     "metadata": {},
     "output_type": "execute_result"
    }
   ],
   "source": [
    "df['Nome do produto'].value_counts()"
   ]
  },
  {
   "cell_type": "code",
   "execution_count": 4,
   "id": "54676586-62d3-4602-821a-09895ef15bd6",
   "metadata": {
    "tags": []
   },
   "outputs": [
    {
     "data": {
      "text/html": [
       "<div><style>\n",
       ".dataframe > thead > tr > th,\n",
       ".dataframe > tbody > tr > td {\n",
       "  text-align: right;\n",
       "  white-space: pre-wrap;\n",
       "}\n",
       "</style>\n",
       "<small>shape: (50, 2)</small><table border=\"1\" class=\"dataframe\"><thead><tr><th>Nome do produto</th><th>Categoria do produto</th></tr><tr><td>str</td><td>str</td></tr></thead><tbody><tr><td>&quot;Produto 1&quot;</td><td>&quot;Brinquedo Educ…</td></tr><tr><td>&quot;Produto 2&quot;</td><td>&quot;Carrinho&quot;</td></tr><tr><td>&quot;Produto 3&quot;</td><td>&quot;Carrinho&quot;</td></tr><tr><td>&quot;Produto 4&quot;</td><td>&quot;Carrinho&quot;</td></tr><tr><td>&quot;Produto 5&quot;</td><td>&quot;Brinquedo Educ…</td></tr><tr><td>&quot;Produto 6&quot;</td><td>&quot;Brinquedo de P…</td></tr><tr><td>&quot;Produto 7&quot;</td><td>&quot;Jogo de Tabule…</td></tr><tr><td>&quot;Produto 8&quot;</td><td>&quot;Carrinho&quot;</td></tr><tr><td>&quot;Produto 9&quot;</td><td>&quot;Carrinho&quot;</td></tr><tr><td>&quot;Produto 10&quot;</td><td>&quot;Jogo de Tabule…</td></tr><tr><td>&quot;Produto 11&quot;</td><td>&quot;Quebra-Cabeça&quot;</td></tr><tr><td>&quot;Produto 12&quot;</td><td>&quot;Brinquedo Educ…</td></tr><tr><td>&hellip;</td><td>&hellip;</td></tr><tr><td>&quot;Produto 39&quot;</td><td>&quot;Quebra-Cabeça&quot;</td></tr><tr><td>&quot;Produto 40&quot;</td><td>&quot;Brinquedo Educ…</td></tr><tr><td>&quot;Produto 41&quot;</td><td>&quot;Quebra-Cabeça&quot;</td></tr><tr><td>&quot;Produto 42&quot;</td><td>&quot;Brinquedo Educ…</td></tr><tr><td>&quot;Produto 43&quot;</td><td>&quot;Brinquedo de P…</td></tr><tr><td>&quot;Produto 44&quot;</td><td>&quot;Brinquedo de P…</td></tr><tr><td>&quot;Produto 45&quot;</td><td>&quot;Brinquedo de P…</td></tr><tr><td>&quot;Produto 46&quot;</td><td>&quot;Brinquedo de P…</td></tr><tr><td>&quot;Produto 47&quot;</td><td>&quot;Brinquedo Educ…</td></tr><tr><td>&quot;Produto 48&quot;</td><td>&quot;Jogo de Tabule…</td></tr><tr><td>&quot;Produto 49&quot;</td><td>&quot;Brinquedo Educ…</td></tr><tr><td>&quot;Produto 50&quot;</td><td>&quot;Brinquedo Educ…</td></tr></tbody></table></div>"
      ],
      "text/plain": [
       "shape: (50, 2)\n",
       "┌─────────────────┬──────────────────────┐\n",
       "│ Nome do produto ┆ Categoria do produto │\n",
       "│ ---             ┆ ---                  │\n",
       "│ str             ┆ str                  │\n",
       "╞═════════════════╪══════════════════════╡\n",
       "│ Produto 1       ┆ Brinquedo Educativo  │\n",
       "│ Produto 2       ┆ Carrinho             │\n",
       "│ Produto 3       ┆ Carrinho             │\n",
       "│ Produto 4       ┆ Carrinho             │\n",
       "│ …               ┆ …                    │\n",
       "│ Produto 47      ┆ Brinquedo Educativo  │\n",
       "│ Produto 48      ┆ Jogo de Tabuleiro    │\n",
       "│ Produto 49      ┆ Brinquedo Educativo  │\n",
       "│ Produto 50      ┆ Brinquedo Educativo  │\n",
       "└─────────────────┴──────────────────────┘"
      ]
     },
     "execution_count": 4,
     "metadata": {},
     "output_type": "execute_result"
    }
   ],
   "source": [
    "df.select(pl.col(['Nome do produto','Categoria do produto']))"
   ]
  },
  {
   "cell_type": "code",
   "execution_count": 5,
   "id": "4d9435bb-13d8-4599-ad4b-757d212c72c0",
   "metadata": {
    "tags": []
   },
   "outputs": [
    {
     "data": {
      "text/html": [
       "<div><style>\n",
       ".dataframe > thead > tr > th,\n",
       ".dataframe > tbody > tr > td {\n",
       "  text-align: right;\n",
       "  white-space: pre-wrap;\n",
       "}\n",
       "</style>\n",
       "<small>shape: (1, 5)</small><table border=\"1\" class=\"dataframe\"><thead><tr><th>Numero do produto</th><th>Nome do produto</th><th>Categoria do produto</th><th>Marca do produto</th><th>Preco do produto</th></tr><tr><td>i64</td><td>str</td><td>str</td><td>str</td><td>f64</td></tr></thead><tbody><tr><td>1</td><td>&quot;Produto 1&quot;</td><td>&quot;Brinquedo Educ…</td><td>&quot;Marca E&quot;</td><td>38.58</td></tr></tbody></table></div>"
      ],
      "text/plain": [
       "shape: (1, 5)\n",
       "┌───────────────────┬─────────────────┬──────────────────────┬──────────────────┬──────────────────┐\n",
       "│ Numero do produto ┆ Nome do produto ┆ Categoria do produto ┆ Marca do produto ┆ Preco do produto │\n",
       "│ ---               ┆ ---             ┆ ---                  ┆ ---              ┆ ---              │\n",
       "│ i64               ┆ str             ┆ str                  ┆ str              ┆ f64              │\n",
       "╞═══════════════════╪═════════════════╪══════════════════════╪══════════════════╪══════════════════╡\n",
       "│ 1                 ┆ Produto 1       ┆ Brinquedo Educativo  ┆ Marca E          ┆ 38.58            │\n",
       "└───────────────────┴─────────────────┴──────────────────────┴──────────────────┴──────────────────┘"
      ]
     },
     "execution_count": 5,
     "metadata": {},
     "output_type": "execute_result"
    }
   ],
   "source": [
    "df.filter(pl.col('Numero do produto') == 1)"
   ]
  },
  {
   "cell_type": "code",
   "execution_count": 6,
   "id": "781eb99f-66aa-42ef-9f41-9002d1a56e4f",
   "metadata": {
    "tags": []
   },
   "outputs": [
    {
     "data": {
      "text/html": [
       "<div><style>\n",
       ".dataframe > thead > tr > th,\n",
       ".dataframe > tbody > tr > td {\n",
       "  text-align: right;\n",
       "  white-space: pre-wrap;\n",
       "}\n",
       "</style>\n",
       "<small>shape: (1, 5)</small><table border=\"1\" class=\"dataframe\"><thead><tr><th>Numero do produto</th><th>Nome do produto</th><th>Categoria do produto</th><th>Marca do produto</th><th>Preco do produto</th></tr><tr><td>i64</td><td>str</td><td>str</td><td>str</td><td>f64</td></tr></thead><tbody><tr><td>8</td><td>&quot;Produto 8&quot;</td><td>&quot;Carrinho&quot;</td><td>&quot;Marca E&quot;</td><td>32.85</td></tr></tbody></table></div>"
      ],
      "text/plain": [
       "shape: (1, 5)\n",
       "┌───────────────────┬─────────────────┬──────────────────────┬──────────────────┬──────────────────┐\n",
       "│ Numero do produto ┆ Nome do produto ┆ Categoria do produto ┆ Marca do produto ┆ Preco do produto │\n",
       "│ ---               ┆ ---             ┆ ---                  ┆ ---              ┆ ---              │\n",
       "│ i64               ┆ str             ┆ str                  ┆ str              ┆ f64              │\n",
       "╞═══════════════════╪═════════════════╪══════════════════════╪══════════════════╪══════════════════╡\n",
       "│ 8                 ┆ Produto 8       ┆ Carrinho             ┆ Marca E          ┆ 32.85            │\n",
       "└───────────────────┴─────────────────┴──────────────────────┴──────────────────┴──────────────────┘"
      ]
     },
     "execution_count": 6,
     "metadata": {},
     "output_type": "execute_result"
    }
   ],
   "source": [
    "df.filter((pl.col('Categoria do produto') == 'Carrinho') & (pl.col('Numero do produto') == 8))"
   ]
  },
  {
   "cell_type": "code",
   "execution_count": 7,
   "id": "e94c8173-b94b-41c0-9909-e81903b1f6a0",
   "metadata": {
    "tags": []
   },
   "outputs": [
    {
     "name": "stdout",
     "output_type": "stream",
     "text": [
      "shape: (5, 4)\n",
      "┌──────────────────────┬───────┬────────┬───────────┐\n",
      "│ Categoria do produto ┆ Count ┆ sum    ┆ mean      │\n",
      "│ ---                  ┆ ---   ┆ ---    ┆ ---       │\n",
      "│ str                  ┆ u32   ┆ f64    ┆ f64       │\n",
      "╞══════════════════════╪═══════╪════════╪═══════════╡\n",
      "│ Brinquedo Educativo  ┆ 13    ┆ 691.75 ┆ 53.211538 │\n",
      "│ Carrinho             ┆ 11    ┆ 607.68 ┆ 55.243636 │\n",
      "│ Brinquedo de Pelúcia ┆ 8     ┆ 424.63 ┆ 53.07875  │\n",
      "│ Jogo de Tabuleiro    ┆ 6     ┆ 372.2  ┆ 62.033333 │\n",
      "│ Quebra-Cabeça        ┆ 12    ┆ 762.94 ┆ 63.578333 │\n",
      "└──────────────────────┴───────┴────────┴───────────┘\n"
     ]
    }
   ],
   "source": [
    "print(df.group_by('Categoria do produto', maintain_order=True).agg([\n",
    "    pl.col('Preco do produto').count().alias('Count'),\n",
    "    pl.col('Preco do produto').sum().alias('sum'),\n",
    "    pl.col('Preco do produto').mean().alias('mean')\n",
    "]))"
   ]
  },
  {
   "cell_type": "code",
   "execution_count": 8,
   "id": "1467357b-10a6-4b02-bbb0-ca3f37bdc658",
   "metadata": {
    "tags": []
   },
   "outputs": [],
   "source": [
    "df2 = pl.read_csv('df_Vendas.csv')"
   ]
  },
  {
   "cell_type": "code",
   "execution_count": 9,
   "id": "fb894e4e-af4a-466c-9e3e-02fa9e1a1611",
   "metadata": {
    "tags": []
   },
   "outputs": [
    {
     "data": {
      "text/html": [
       "<div><style>\n",
       ".dataframe > thead > tr > th,\n",
       ".dataframe > tbody > tr > td {\n",
       "  text-align: right;\n",
       "  white-space: pre-wrap;\n",
       "}\n",
       "</style>\n",
       "<small>shape: (60_000, 9)</small><table border=\"1\" class=\"dataframe\"><thead><tr><th>Numero do produto</th><th>Nome do produto</th><th>Categoria do produto</th><th>Marca do produto</th><th>Preco do produto</th><th>Numero da loja</th><th>Mes da venda</th><th>Ano da venda</th><th>Quantidade vendida</th></tr><tr><td>i64</td><td>str</td><td>str</td><td>str</td><td>f64</td><td>i64</td><td>i64</td><td>i64</td><td>f64</td></tr></thead><tbody><tr><td>1</td><td>&quot;Produto 1&quot;</td><td>&quot;Brinquedo Educ…</td><td>&quot;Marca E&quot;</td><td>38.58</td><td>1</td><td>1</td><td>2021</td><td>47.0</td></tr><tr><td>1</td><td>&quot;Produto 1&quot;</td><td>&quot;Brinquedo Educ…</td><td>&quot;Marca E&quot;</td><td>38.58</td><td>2</td><td>1</td><td>2021</td><td>35.0</td></tr><tr><td>1</td><td>&quot;Produto 1&quot;</td><td>&quot;Brinquedo Educ…</td><td>&quot;Marca E&quot;</td><td>38.58</td><td>3</td><td>1</td><td>2021</td><td>32.0</td></tr><tr><td>1</td><td>&quot;Produto 1&quot;</td><td>&quot;Brinquedo Educ…</td><td>&quot;Marca E&quot;</td><td>38.58</td><td>4</td><td>1</td><td>2021</td><td>12.0</td></tr><tr><td>1</td><td>&quot;Produto 1&quot;</td><td>&quot;Brinquedo Educ…</td><td>&quot;Marca E&quot;</td><td>38.58</td><td>5</td><td>1</td><td>2021</td><td>36.0</td></tr><tr><td>1</td><td>&quot;Produto 1&quot;</td><td>&quot;Brinquedo Educ…</td><td>&quot;Marca E&quot;</td><td>38.58</td><td>6</td><td>1</td><td>2021</td><td>49.0</td></tr><tr><td>1</td><td>&quot;Produto 1&quot;</td><td>&quot;Brinquedo Educ…</td><td>&quot;Marca E&quot;</td><td>38.58</td><td>7</td><td>1</td><td>2021</td><td>44.0</td></tr><tr><td>1</td><td>&quot;Produto 1&quot;</td><td>&quot;Brinquedo Educ…</td><td>&quot;Marca E&quot;</td><td>38.58</td><td>8</td><td>1</td><td>2021</td><td>9.0</td></tr><tr><td>1</td><td>&quot;Produto 1&quot;</td><td>&quot;Brinquedo Educ…</td><td>&quot;Marca E&quot;</td><td>38.58</td><td>9</td><td>1</td><td>2021</td><td>26.0</td></tr><tr><td>1</td><td>&quot;Produto 1&quot;</td><td>&quot;Brinquedo Educ…</td><td>&quot;Marca E&quot;</td><td>38.58</td><td>10</td><td>1</td><td>2021</td><td>38.0</td></tr><tr><td>1</td><td>&quot;Produto 1&quot;</td><td>&quot;Brinquedo Educ…</td><td>&quot;Marca E&quot;</td><td>38.58</td><td>11</td><td>1</td><td>2021</td><td>47.0</td></tr><tr><td>1</td><td>&quot;Produto 1&quot;</td><td>&quot;Brinquedo Educ…</td><td>&quot;Marca E&quot;</td><td>38.58</td><td>12</td><td>1</td><td>2021</td><td>8.0</td></tr><tr><td>&hellip;</td><td>&hellip;</td><td>&hellip;</td><td>&hellip;</td><td>&hellip;</td><td>&hellip;</td><td>&hellip;</td><td>&hellip;</td><td>&hellip;</td></tr><tr><td>50</td><td>&quot;Produto 50&quot;</td><td>&quot;Brinquedo Educ…</td><td>&quot;Marca B&quot;</td><td>76.28</td><td>39</td><td>12</td><td>2022</td><td>27.0</td></tr><tr><td>50</td><td>&quot;Produto 50&quot;</td><td>&quot;Brinquedo Educ…</td><td>&quot;Marca B&quot;</td><td>76.28</td><td>40</td><td>12</td><td>2022</td><td>39.0</td></tr><tr><td>50</td><td>&quot;Produto 50&quot;</td><td>&quot;Brinquedo Educ…</td><td>&quot;Marca B&quot;</td><td>76.28</td><td>41</td><td>12</td><td>2022</td><td>14.0</td></tr><tr><td>50</td><td>&quot;Produto 50&quot;</td><td>&quot;Brinquedo Educ…</td><td>&quot;Marca B&quot;</td><td>76.28</td><td>42</td><td>12</td><td>2022</td><td>28.0</td></tr><tr><td>50</td><td>&quot;Produto 50&quot;</td><td>&quot;Brinquedo Educ…</td><td>&quot;Marca B&quot;</td><td>76.28</td><td>43</td><td>12</td><td>2022</td><td>48.0</td></tr><tr><td>50</td><td>&quot;Produto 50&quot;</td><td>&quot;Brinquedo Educ…</td><td>&quot;Marca B&quot;</td><td>76.28</td><td>44</td><td>12</td><td>2022</td><td>25.0</td></tr><tr><td>50</td><td>&quot;Produto 50&quot;</td><td>&quot;Brinquedo Educ…</td><td>&quot;Marca B&quot;</td><td>76.28</td><td>45</td><td>12</td><td>2022</td><td>12.0</td></tr><tr><td>50</td><td>&quot;Produto 50&quot;</td><td>&quot;Brinquedo Educ…</td><td>&quot;Marca B&quot;</td><td>76.28</td><td>46</td><td>12</td><td>2022</td><td>4.0</td></tr><tr><td>50</td><td>&quot;Produto 50&quot;</td><td>&quot;Brinquedo Educ…</td><td>&quot;Marca B&quot;</td><td>76.28</td><td>47</td><td>12</td><td>2022</td><td>5.0</td></tr><tr><td>50</td><td>&quot;Produto 50&quot;</td><td>&quot;Brinquedo Educ…</td><td>&quot;Marca B&quot;</td><td>76.28</td><td>48</td><td>12</td><td>2022</td><td>27.0</td></tr><tr><td>50</td><td>&quot;Produto 50&quot;</td><td>&quot;Brinquedo Educ…</td><td>&quot;Marca B&quot;</td><td>76.28</td><td>49</td><td>12</td><td>2022</td><td>30.0</td></tr><tr><td>50</td><td>&quot;Produto 50&quot;</td><td>&quot;Brinquedo Educ…</td><td>&quot;Marca B&quot;</td><td>76.28</td><td>50</td><td>12</td><td>2022</td><td>6.0</td></tr></tbody></table></div>"
      ],
      "text/plain": [
       "shape: (60_000, 9)\n",
       "┌───────────┬────────────┬──────────────┬──────────┬───┬────────────────┬────────┬──────────────┬────────────┐\n",
       "│ Numero do ┆ Nome do    ┆ Categoria do ┆ Marca do ┆ … ┆ Numero da loja ┆ Mes da ┆ Ano da venda ┆ Quantidade │\n",
       "│ produto   ┆ produto    ┆ produto      ┆ produto  ┆   ┆ ---            ┆ venda  ┆ ---          ┆ vendida    │\n",
       "│ ---       ┆ ---        ┆ ---          ┆ ---      ┆   ┆ i64            ┆ ---    ┆ i64          ┆ ---        │\n",
       "│ i64       ┆ str        ┆ str          ┆ str      ┆   ┆                ┆ i64    ┆              ┆ f64        │\n",
       "╞═══════════╪════════════╪══════════════╪══════════╪═══╪════════════════╪════════╪══════════════╪════════════╡\n",
       "│ 1         ┆ Produto 1  ┆ Brinquedo    ┆ Marca E  ┆ … ┆ 1              ┆ 1      ┆ 2021         ┆ 47.0       │\n",
       "│           ┆            ┆ Educativo    ┆          ┆   ┆                ┆        ┆              ┆            │\n",
       "│ 1         ┆ Produto 1  ┆ Brinquedo    ┆ Marca E  ┆ … ┆ 2              ┆ 1      ┆ 2021         ┆ 35.0       │\n",
       "│           ┆            ┆ Educativo    ┆          ┆   ┆                ┆        ┆              ┆            │\n",
       "│ 1         ┆ Produto 1  ┆ Brinquedo    ┆ Marca E  ┆ … ┆ 3              ┆ 1      ┆ 2021         ┆ 32.0       │\n",
       "│           ┆            ┆ Educativo    ┆          ┆   ┆                ┆        ┆              ┆            │\n",
       "│ 1         ┆ Produto 1  ┆ Brinquedo    ┆ Marca E  ┆ … ┆ 4              ┆ 1      ┆ 2021         ┆ 12.0       │\n",
       "│           ┆            ┆ Educativo    ┆          ┆   ┆                ┆        ┆              ┆            │\n",
       "│ …         ┆ …          ┆ …            ┆ …        ┆ … ┆ …              ┆ …      ┆ …            ┆ …          │\n",
       "│ 50        ┆ Produto 50 ┆ Brinquedo    ┆ Marca B  ┆ … ┆ 47             ┆ 12     ┆ 2022         ┆ 5.0        │\n",
       "│           ┆            ┆ Educativo    ┆          ┆   ┆                ┆        ┆              ┆            │\n",
       "│ 50        ┆ Produto 50 ┆ Brinquedo    ┆ Marca B  ┆ … ┆ 48             ┆ 12     ┆ 2022         ┆ 27.0       │\n",
       "│           ┆            ┆ Educativo    ┆          ┆   ┆                ┆        ┆              ┆            │\n",
       "│ 50        ┆ Produto 50 ┆ Brinquedo    ┆ Marca B  ┆ … ┆ 49             ┆ 12     ┆ 2022         ┆ 30.0       │\n",
       "│           ┆            ┆ Educativo    ┆          ┆   ┆                ┆        ┆              ┆            │\n",
       "│ 50        ┆ Produto 50 ┆ Brinquedo    ┆ Marca B  ┆ … ┆ 50             ┆ 12     ┆ 2022         ┆ 6.0        │\n",
       "│           ┆            ┆ Educativo    ┆          ┆   ┆                ┆        ┆              ┆            │\n",
       "└───────────┴────────────┴──────────────┴──────────┴───┴────────────────┴────────┴──────────────┴────────────┘"
      ]
     },
     "execution_count": 9,
     "metadata": {},
     "output_type": "execute_result"
    }
   ],
   "source": [
    "df_final = df.join(df2, on='Numero do produto', how='left')\n",
    "df_final"
   ]
  },
  {
   "cell_type": "code",
   "execution_count": 10,
   "id": "d748ae7e-6361-48e1-b1aa-b0db83152514",
   "metadata": {
    "tags": []
   },
   "outputs": [],
   "source": [
    "df_final = (\n",
    "df_final.with_columns([\n",
    "    pl.col('Preco do produto').mul(pl.col('Quantidade vendida')).alias('Valor Final')\n",
    "])\n",
    ")                                  "
   ]
  },
  {
   "cell_type": "code",
   "execution_count": 11,
   "id": "92816028-dc60-4d94-b5bd-b8cbb3d14400",
   "metadata": {
    "tags": []
   },
   "outputs": [
    {
     "name": "stdout",
     "output_type": "stream",
     "text": [
      "shape: (60_000, 10)\n",
      "┌───────────┬───────────────┬───────────────┬──────────┬───┬───────────────┬──────────────┬──────────────┬─────────────┐\n",
      "│ Numero do ┆ Nome do       ┆ Categoria do  ┆ Marca do ┆ … ┆ Mes da venda  ┆ Ano da venda ┆ Quantidade   ┆ Valor Final │\n",
      "│ produto   ┆ produto       ┆ produto       ┆ produto  ┆   ┆ ---           ┆ ---          ┆ vendida      ┆ ---         │\n",
      "│ ---       ┆ ---           ┆ ---           ┆ ---      ┆   ┆ i64           ┆ i64          ┆ ---          ┆ f64         │\n",
      "│ i64       ┆ str           ┆ str           ┆ str      ┆   ┆               ┆              ┆ f64          ┆             │\n",
      "╞═══════════╪═══════════════╪═══════════════╪══════════╪═══╪═══════════════╪══════════════╪══════════════╪═════════════╡\n",
      "│ 1         ┆ Produto 1     ┆ Brinquedo     ┆ Marca E  ┆ … ┆ 1             ┆ 2021         ┆ 47.0         ┆ 1813.26     │\n",
      "│           ┆               ┆ Educativo     ┆          ┆   ┆               ┆              ┆              ┆             │\n",
      "│ 1         ┆ Produto 1     ┆ Brinquedo     ┆ Marca E  ┆ … ┆ 1             ┆ 2021         ┆ 35.0         ┆ 1350.3      │\n",
      "│           ┆               ┆ Educativo     ┆          ┆   ┆               ┆              ┆              ┆             │\n",
      "│ 1         ┆ Produto 1     ┆ Brinquedo     ┆ Marca E  ┆ … ┆ 1             ┆ 2021         ┆ 32.0         ┆ 1234.56     │\n",
      "│           ┆               ┆ Educativo     ┆          ┆   ┆               ┆              ┆              ┆             │\n",
      "│ 1         ┆ Produto 1     ┆ Brinquedo     ┆ Marca E  ┆ … ┆ 1             ┆ 2021         ┆ 12.0         ┆ 462.96      │\n",
      "│           ┆               ┆ Educativo     ┆          ┆   ┆               ┆              ┆              ┆             │\n",
      "│ …         ┆ …             ┆ …             ┆ …        ┆ … ┆ …             ┆ …            ┆ …            ┆ …           │\n",
      "│ 50        ┆ Produto 50    ┆ Brinquedo     ┆ Marca B  ┆ … ┆ 12            ┆ 2022         ┆ 5.0          ┆ 381.4       │\n",
      "│           ┆               ┆ Educativo     ┆          ┆   ┆               ┆              ┆              ┆             │\n",
      "│ 50        ┆ Produto 50    ┆ Brinquedo     ┆ Marca B  ┆ … ┆ 12            ┆ 2022         ┆ 27.0         ┆ 2059.56     │\n",
      "│           ┆               ┆ Educativo     ┆          ┆   ┆               ┆              ┆              ┆             │\n",
      "│ 50        ┆ Produto 50    ┆ Brinquedo     ┆ Marca B  ┆ … ┆ 12            ┆ 2022         ┆ 30.0         ┆ 2288.4      │\n",
      "│           ┆               ┆ Educativo     ┆          ┆   ┆               ┆              ┆              ┆             │\n",
      "│ 50        ┆ Produto 50    ┆ Brinquedo     ┆ Marca B  ┆ … ┆ 12            ┆ 2022         ┆ 6.0          ┆ 457.68      │\n",
      "│           ┆               ┆ Educativo     ┆          ┆   ┆               ┆              ┆              ┆             │\n",
      "└───────────┴───────────────┴───────────────┴──────────┴───┴───────────────┴──────────────┴──────────────┴─────────────┘\n"
     ]
    }
   ],
   "source": [
    "print(df_final)"
   ]
  },
  {
   "cell_type": "markdown",
   "id": "4d45ca50-73c9-4437-a86b-1500a97e75ab",
   "metadata": {},
   "source": [
    "# Teste de velocidade"
   ]
  },
  {
   "cell_type": "markdown",
   "id": "2fce96fa-5555-460f-b130-ed7517e1573b",
   "metadata": {},
   "source": [
    "### Pandas"
   ]
  },
  {
   "cell_type": "code",
   "execution_count": 14,
   "id": "435872b1-d979-48af-8fb5-da91db3302e3",
   "metadata": {},
   "outputs": [
    {
     "name": "stdout",
     "output_type": "stream",
     "text": [
      "15.5 ms ± 96 µs per loop (mean ± std. dev. of 7 runs, 100 loops each)\n"
     ]
    }
   ],
   "source": [
    "%%timeit\n",
    "\n",
    "df = pd.read_csv('df_Vendas.csv')\n",
    "df.groupby(['Ano da venda','Mes da venda','Numero do produto']).agg(\n",
    "    {'Quantidade vendida': ['min','mean','max','sum','count']}\n",
    ")"
   ]
  },
  {
   "cell_type": "markdown",
   "id": "84b3f322-08e4-4d69-b8e3-5652220d0c60",
   "metadata": {},
   "source": [
    "### Polars"
   ]
  },
  {
   "cell_type": "code",
   "execution_count": 15,
   "id": "e0c18b17-138c-4590-b9ff-a75751ea49c2",
   "metadata": {},
   "outputs": [
    {
     "name": "stdout",
     "output_type": "stream",
     "text": [
      "1.4 ms ± 60.8 µs per loop (mean ± std. dev. of 7 runs, 1,000 loops each)\n"
     ]
    }
   ],
   "source": [
    "%%timeit\n",
    "\n",
    "df1= pl.read_csv('df_Vendas.csv')\n",
    "(df1.group_by(['Ano da venda','Mes da venda','Numero do produto'])\n",
    " .agg([pl.col(\"Quantidade vendida\").min().alias(\"min\"),\n",
    "      pl.col(\"Quantidade vendida\").mean().alias(\"mean\"),\n",
    "      pl.col(\"Quantidade vendida\").max().alias(\"max\"),\n",
    "      pl.col(\"Quantidade vendida\").sum().alias(\"sum\"),\n",
    "      pl.col(\"Quantidade vendida\").count().alias(\"count\")\n",
    "     ]\n",
    "    )\n",
    ")"
   ]
  },
  {
   "cell_type": "code",
   "execution_count": 17,
   "id": "05ba9679-693a-4e1b-9db7-d3b8bc885f5b",
   "metadata": {},
   "outputs": [
    {
     "name": "stdout",
     "output_type": "stream",
     "text": [
      "<class 'pandas.core.frame.DataFrame'>\n",
      "RangeIndex: 60000 entries, 0 to 59999\n",
      "Data columns (total 10 columns):\n",
      " #   Column                Non-Null Count  Dtype  \n",
      "---  ------                --------------  -----  \n",
      " 0   Numero do produto     60000 non-null  int64  \n",
      " 1   Nome do produto       60000 non-null  object \n",
      " 2   Categoria do produto  60000 non-null  object \n",
      " 3   Marca do produto      60000 non-null  object \n",
      " 4   Preco do produto      60000 non-null  float64\n",
      " 5   Numero da loja        60000 non-null  int64  \n",
      " 6   Mes da venda          60000 non-null  int64  \n",
      " 7   Ano da venda          60000 non-null  int64  \n",
      " 8   Quantidade vendida    59988 non-null  float64\n",
      " 9   Valor Final           59988 non-null  float64\n",
      "dtypes: float64(3), int64(4), object(3)\n",
      "memory usage: 4.6+ MB\n"
     ]
    }
   ],
   "source": [
    "df = df_final.to_pandas()\n",
    "df.info()"
   ]
  },
  {
   "cell_type": "code",
   "execution_count": null,
   "id": "c9d2329b-50a8-4719-b004-533cd1fe554f",
   "metadata": {},
   "outputs": [],
   "source": []
  }
 ],
 "metadata": {
  "kernelspec": {
   "display_name": "Python 3 (ipykernel)",
   "language": "python",
   "name": "python3"
  },
  "language_info": {
   "codemirror_mode": {
    "name": "ipython",
    "version": 3
   },
   "file_extension": ".py",
   "mimetype": "text/x-python",
   "name": "python",
   "nbconvert_exporter": "python",
   "pygments_lexer": "ipython3",
   "version": "3.11.5"
  }
 },
 "nbformat": 4,
 "nbformat_minor": 5
}
